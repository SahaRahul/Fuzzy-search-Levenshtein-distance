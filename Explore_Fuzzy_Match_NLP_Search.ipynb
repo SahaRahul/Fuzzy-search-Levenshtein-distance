{
  "nbformat": 4,
  "nbformat_minor": 0,
  "metadata": {
    "colab": {
      "name": "Explore_Fuzzy_Match_NLP_Search.ipynb",
      "provenance": [],
      "collapsed_sections": [],
      "authorship_tag": "ABX9TyOyD9Z3La1yiiSOlPgb4ZAq",
      "include_colab_link": true
    },
    "kernelspec": {
      "name": "python3",
      "display_name": "Python 3"
    }
  },
  "cells": [
    {
      "cell_type": "markdown",
      "metadata": {
        "id": "view-in-github",
        "colab_type": "text"
      },
      "source": [
        "<a href=\"https://colab.research.google.com/github/SahaRahul/Fuzzy-search-Levenshtein-distance/blob/master/Explore_Fuzzy_Match_NLP_Search.ipynb\" target=\"_parent\"><img src=\"https://colab.research.google.com/assets/colab-badge.svg\" alt=\"Open In Colab\"/></a>"
      ]
    },
    {
      "cell_type": "markdown",
      "metadata": {
        "id": "BOSQSaL8MkiU",
        "colab_type": "text"
      },
      "source": [
        "## Levenshtein Distance is the basic of all the below match operation"
      ]
    },
    {
      "cell_type": "code",
      "metadata": {
        "id": "l3EO9dGWM62T",
        "colab_type": "code",
        "colab": {
          "base_uri": "https://localhost:8080/",
          "height": 224
        },
        "outputId": "62dfccec-fa29-4d5c-ae7c-4a7b79f07f3a"
      },
      "source": [
        "!pip install python-Levenshtein"
      ],
      "execution_count": 4,
      "outputs": [
        {
          "output_type": "stream",
          "text": [
            "Collecting python-Levenshtein\n",
            "\u001b[?25l  Downloading https://files.pythonhosted.org/packages/42/a9/d1785c85ebf9b7dfacd08938dd028209c34a0ea3b1bcdb895208bd40a67d/python-Levenshtein-0.12.0.tar.gz (48kB)\n",
            "\r\u001b[K     |██████▊                         | 10kB 15.1MB/s eta 0:00:01\r\u001b[K     |█████████████▌                  | 20kB 1.7MB/s eta 0:00:01\r\u001b[K     |████████████████████▏           | 30kB 2.2MB/s eta 0:00:01\r\u001b[K     |███████████████████████████     | 40kB 2.5MB/s eta 0:00:01\r\u001b[K     |████████████████████████████████| 51kB 1.5MB/s \n",
            "\u001b[?25hRequirement already satisfied: setuptools in /usr/local/lib/python3.6/dist-packages (from python-Levenshtein) (49.2.0)\n",
            "Building wheels for collected packages: python-Levenshtein\n",
            "  Building wheel for python-Levenshtein (setup.py) ... \u001b[?25l\u001b[?25hdone\n",
            "  Created wheel for python-Levenshtein: filename=python_Levenshtein-0.12.0-cp36-cp36m-linux_x86_64.whl size=144789 sha256=e9acd4e091cf9ea078b7af43a73da45eff23a7c9057d13bb7bc644e3e92db23d\n",
            "  Stored in directory: /root/.cache/pip/wheels/de/c2/93/660fd5f7559049268ad2dc6d81c4e39e9e36518766eaf7e342\n",
            "Successfully built python-Levenshtein\n",
            "Installing collected packages: python-Levenshtein\n",
            "Successfully installed python-Levenshtein-0.12.0\n"
          ],
          "name": "stdout"
        }
      ]
    },
    {
      "cell_type": "code",
      "metadata": {
        "id": "b9L9V1riMtua",
        "colab_type": "code",
        "colab": {
          "base_uri": "https://localhost:8080/",
          "height": 51
        },
        "outputId": "07d7c0c5-135f-4b97-c010-ec1253c7a446"
      },
      "source": [
        "import Levenshtein as lev\n",
        "Str1 = \"Apple Inc.\"\n",
        "Str2 = \"apple Inc\"\n",
        "Distance = lev.distance(Str1.lower(),Str2.lower()),\n",
        "print(Distance)\n",
        "Ratio = lev.ratio(Str1.lower(),Str2.lower())\n",
        "print(Ratio)"
      ],
      "execution_count": 5,
      "outputs": [
        {
          "output_type": "stream",
          "text": [
            "(1,)\n",
            "0.9473684210526315\n"
          ],
          "name": "stdout"
        }
      ]
    },
    {
      "cell_type": "markdown",
      "metadata": {
        "id": "h9cgHaBfNcEm",
        "colab_type": "text"
      },
      "source": [
        "## The FuzzyWuzzy Package"
      ]
    },
    {
      "cell_type": "code",
      "metadata": {
        "id": "pTCKrpTBNrrC",
        "colab_type": "code",
        "colab": {
          "base_uri": "https://localhost:8080/",
          "height": 85
        },
        "outputId": "abb8cde1-5149-4235-ee8d-2c47f5d93941"
      },
      "source": [
        "!pip install fuzzywuzzy"
      ],
      "execution_count": 7,
      "outputs": [
        {
          "output_type": "stream",
          "text": [
            "Collecting fuzzywuzzy\n",
            "  Downloading https://files.pythonhosted.org/packages/43/ff/74f23998ad2f93b945c0309f825be92e04e0348e062026998b5eefef4c33/fuzzywuzzy-0.18.0-py2.py3-none-any.whl\n",
            "Installing collected packages: fuzzywuzzy\n",
            "Successfully installed fuzzywuzzy-0.18.0\n"
          ],
          "name": "stdout"
        }
      ]
    },
    {
      "cell_type": "code",
      "metadata": {
        "id": "tPYjtrhPMa_Q",
        "colab_type": "code",
        "colab": {
          "base_uri": "https://localhost:8080/",
          "height": 34
        },
        "outputId": "8d51d973-7b6b-4175-c2d4-e7b004bc4f36"
      },
      "source": [
        "from fuzzywuzzy import fuzz\n",
        "Str1 = \"Apple Inc.\"\n",
        "Str2 = \"apple Inc\"\n",
        "Ratio = fuzz.ratio(Str1.lower(),Str2.lower())\n",
        "print(Ratio)"
      ],
      "execution_count": 8,
      "outputs": [
        {
          "output_type": "stream",
          "text": [
            "95\n"
          ],
          "name": "stdout"
        }
      ]
    },
    {
      "cell_type": "code",
      "metadata": {
        "id": "mJ49YbK8OLUD",
        "colab_type": "code",
        "colab": {
          "base_uri": "https://localhost:8080/",
          "height": 51
        },
        "outputId": "545938ef-4216-4eac-f2cd-3b10b12b015f"
      },
      "source": [
        "Str1 = \"Los Angeles Lakers\"\n",
        "Str2 = \"Lakers\"\n",
        "Ratio = fuzz.ratio(Str1.lower(),Str2.lower())\n",
        "Partial_Ratio = fuzz.partial_ratio(Str1.lower(),Str2.lower())\n",
        "print(Ratio)\n",
        "print(Partial_Ratio)"
      ],
      "execution_count": 9,
      "outputs": [
        {
          "output_type": "stream",
          "text": [
            "50\n",
            "100\n"
          ],
          "name": "stdout"
        }
      ]
    },
    {
      "cell_type": "code",
      "metadata": {
        "id": "SlapGkEyOeVx",
        "colab_type": "code",
        "colab": {
          "base_uri": "https://localhost:8080/",
          "height": 68
        },
        "outputId": "be11803f-a745-49d9-9160-602547aabbc9"
      },
      "source": [
        "Str1 = \"united states v. nixon\"\n",
        "Str2 = \"Nixon v. United States\"\n",
        "Ratio = fuzz.ratio(Str1.lower(),Str2.lower())\n",
        "Partial_Ratio = fuzz.partial_ratio(Str1.lower(),Str2.lower())\n",
        "Token_Sort_Ratio = fuzz.token_sort_ratio(Str1,Str2)\n",
        "print(Ratio)\n",
        "print(Partial_Ratio)\n",
        "print(Token_Sort_Ratio)"
      ],
      "execution_count": 10,
      "outputs": [
        {
          "output_type": "stream",
          "text": [
            "59\n",
            "74\n",
            "100\n"
          ],
          "name": "stdout"
        }
      ]
    },
    {
      "cell_type": "code",
      "metadata": {
        "id": "9xb1eDW8Ondo",
        "colab_type": "code",
        "colab": {
          "base_uri": "https://localhost:8080/",
          "height": 85
        },
        "outputId": "6a880ed1-6066-4c16-9876-6468d0ade2a6"
      },
      "source": [
        "Str1 = \"The supreme court case of Nixon vs The United States\"\n",
        "Str2 = \"Nixon v. United States\"\n",
        "Ratio = fuzz.ratio(Str1.lower(),Str2.lower())\n",
        "Partial_Ratio = fuzz.partial_ratio(Str1.lower(),Str2.lower())\n",
        "Token_Sort_Ratio = fuzz.token_sort_ratio(Str1,Str2)\n",
        "Token_Set_Ratio = fuzz.token_set_ratio(Str1,Str2)\n",
        "print(Ratio)\n",
        "print(Partial_Ratio)\n",
        "print(Token_Sort_Ratio)\n",
        "print(Token_Set_Ratio)"
      ],
      "execution_count": 11,
      "outputs": [
        {
          "output_type": "stream",
          "text": [
            "57\n",
            "77\n",
            "58\n",
            "95\n"
          ],
          "name": "stdout"
        }
      ]
    },
    {
      "cell_type": "code",
      "metadata": {
        "id": "bzN2qpVfPBEG",
        "colab_type": "code",
        "colab": {
          "base_uri": "https://localhost:8080/",
          "height": 85
        },
        "outputId": "1a0038be-b4de-4b53-e9df-f81e6b50c66a"
      },
      "source": [
        "Str1 = \"Apple Inc.\"\n",
        "Str2 = \"apple incorporated.\"\n",
        "Ratio = fuzz.ratio(Str1.lower(),Str2.lower())\n",
        "Partial_Ratio = fuzz.partial_ratio(Str1.lower(),Str2.lower())\n",
        "Token_Sort_Ratio = fuzz.token_sort_ratio(Str1,Str2)\n",
        "Token_Set_Ratio = fuzz.token_set_ratio(Str1,Str2)\n",
        "print(Ratio)\n",
        "print(Partial_Ratio)\n",
        "print(Token_Sort_Ratio)\n",
        "print(Token_Set_Ratio)"
      ],
      "execution_count": 15,
      "outputs": [
        {
          "output_type": "stream",
          "text": [
            "69\n",
            "90\n",
            "67\n",
            "71\n"
          ],
          "name": "stdout"
        }
      ]
    },
    {
      "cell_type": "code",
      "metadata": {
        "id": "5WZwG-c2Op0O",
        "colab_type": "code",
        "colab": {
          "base_uri": "https://localhost:8080/",
          "height": 51
        },
        "outputId": "e8d40180-3d9b-41a6-cb4e-ef8a19b01f99"
      },
      "source": [
        "from fuzzywuzzy import process\n",
        "str2Match = \"apple inc\"\n",
        "strOptions = [\"Apple Inc.\",\"apple park\",\"apple incorporated.\",\"iphone\"]\n",
        "Ratios = process.extract(str2Match,strOptions)\n",
        "print(Ratios)\n",
        "# You can also select the string with the highest matching percentage\n",
        "highest = process.extractOne(str2Match,strOptions)\n",
        "print(highest)"
      ],
      "execution_count": 14,
      "outputs": [
        {
          "output_type": "stream",
          "text": [
            "[('Apple Inc.', 100), ('apple incorporated.', 90), ('apple park', 67), ('iphone', 30)]\n",
            "('Apple Inc.', 100)\n"
          ],
          "name": "stdout"
        }
      ]
    },
    {
      "cell_type": "markdown",
      "metadata": {
        "id": "ex-MROXUOOEq",
        "colab_type": "text"
      },
      "source": [
        "### There are other packages and base function to perform similar task, but fundamentals are same"
      ]
    },
    {
      "cell_type": "code",
      "metadata": {
        "id": "XEEKhNerOU3n",
        "colab_type": "code",
        "colab": {}
      },
      "source": [
        ""
      ],
      "execution_count": null,
      "outputs": []
    }
  ]
}